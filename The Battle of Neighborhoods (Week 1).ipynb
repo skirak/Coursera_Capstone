{
    "cells": [
        {
            "cell_type": "markdown",
            "metadata": {
                "collapsed": true
            },
            "source": "# Capstone Project - The Battle of Neighborhoods (Week 1) #"
        },
        {
            "cell_type": "markdown",
            "metadata": {},
            "source": "# Introduction #\n\nDublin has overtaken Paris for the first time to become the fifth most expensive place for an expat to rent a home in Europe, according to a new survey.\nThe research, published by global mobility expert ECA International, found that the average rental price for an unfurnished, mid-range, three-bedroom apartment in Dublin targeting the expat market, has risen to \u20ac 3,406 a month. This puts Dublin behind London, Moscow, Zurich and Geneva, and compares with an average rent of \u20ac3,324 for Paris.\n\n_\"The past 10 years have seen a significant turnaround in the fortunes of Dublin\u2019s residential rental market. The global financial crisis exposed a property bubble in the Irish capital and rents have increased significantly with each subsequent year of recovery. The cost of renting has also been affected by elevated demand from international companies relocating staff while looking to take advantage of Ireland\u2019s low corporate tax rate\"_, said Alec Smith, accommodation services manager, ECA International.\n\nDublin's rise in the ranking is also widely seen as a function of its emergence as one of the \"winners\" to emerge from the migration of financial services businesses out of London in the lead-up to Brexit.\nTherefore, there is a need to identify Dublin neighborhoods where the costs of living are affordable for mid-range expats.\nSpecifically, it is important to analyze the neighborhoods well connected to the center of this city by the different types of transport in relation to the availability of the services present, the costs of rents and the crime rate.\n\nThe question to be answered is: _\"What are the top 5 neighborhoods to choose to live in based on crime rate, rental cost, transport and available services?\"_"
        },
        {
            "cell_type": "markdown",
            "metadata": {},
            "source": "# Data #\n\nTo obtain data on house/apartment purchases in each district of Dublin in the year 2020 (specifically, up to 18/11/2020), the dataset created by the [Property Services Regulatory Authority](http://psr.ie/en/PSRA/Pages/home) (PSRA) in .csv format was used, identified as \"PPR-2020-Dublin\". This dataset consists of: date of sale, address of the house sold, postcode, country, price, description of the property and its size.  \nA location data provider with information about all manner of venues and events within an area of interest, called [Foursquare](foursquare.com), was also used to extract information of venues within a specified distance of the longitude and latitude of each postcode. The information obtained per venue are the following:\n\n1. Name of the neighborhood\n2. Neighborhood Latitude\n3. Neighborhood Longitude\n4. Name of the venue\n5. Venue Latitude\n6. Venue Longitude\n7. Venue Category\n\nIn addition, data on the [crime rates](https://www.irishtimes.com/news/crime-and-law/dublin-s-north-inner-city-has-highest-crime-rate-in-the-state-1.4036601#:~:text=It%20had%20a%20crime%20rate,1%2C585%20crimes%20per%2010%2C000%20population.) of North and South Dublin for the year 2019 published by the popular Irish newspaper \"The Irish Time\" were collected."
        },
        {
            "cell_type": "code",
            "execution_count": null,
            "metadata": {},
            "outputs": [],
            "source": ""
        },
        {
            "cell_type": "code",
            "execution_count": null,
            "metadata": {},
            "outputs": [],
            "source": ""
        }
    ],
    "metadata": {
        "kernelspec": {
            "display_name": "Python 3.7",
            "language": "python",
            "name": "python3"
        },
        "language_info": {
            "codemirror_mode": {
                "name": "ipython",
                "version": 3
            },
            "file_extension": ".py",
            "mimetype": "text/x-python",
            "name": "python",
            "nbconvert_exporter": "python",
            "pygments_lexer": "ipython3",
            "version": "3.7.9"
        }
    },
    "nbformat": 4,
    "nbformat_minor": 1
}